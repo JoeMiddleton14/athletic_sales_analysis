{
 "cells": [
  {
   "cell_type": "code",
   "execution_count": 2,
   "metadata": {},
   "outputs": [],
   "source": [
    "# Import Libraries and Dependencies\n",
    "import pandas as pd"
   ]
  },
  {
   "cell_type": "markdown",
   "metadata": {},
   "source": [
    "### 1. Combine and Clean the Data\n",
    "#### Import CSVs"
   ]
  },
  {
   "cell_type": "code",
   "execution_count": 3,
   "metadata": {},
   "outputs": [],
   "source": [
    "# Read the CSV files into DataFrames.\n",
    "df_2020 = pd.read_csv('athletic_sales_2020.csv')\n",
    "df_2021 = pd.read_csv('athletic_sales_2021.csv')\n"
   ]
  },
  {
   "cell_type": "code",
   "execution_count": 4,
   "metadata": {},
   "outputs": [
    {
     "data": {
      "text/html": [
       "<div>\n",
       "<style scoped>\n",
       "    .dataframe tbody tr th:only-of-type {\n",
       "        vertical-align: middle;\n",
       "    }\n",
       "\n",
       "    .dataframe tbody tr th {\n",
       "        vertical-align: top;\n",
       "    }\n",
       "\n",
       "    .dataframe thead th {\n",
       "        text-align: right;\n",
       "    }\n",
       "</style>\n",
       "<table border=\"1\" class=\"dataframe\">\n",
       "  <thead>\n",
       "    <tr style=\"text-align: right;\">\n",
       "      <th></th>\n",
       "      <th>retailer</th>\n",
       "      <th>retailer_id</th>\n",
       "      <th>invoice_date</th>\n",
       "      <th>region</th>\n",
       "      <th>state</th>\n",
       "      <th>city</th>\n",
       "      <th>product</th>\n",
       "      <th>price_per_unit</th>\n",
       "      <th>units_sold</th>\n",
       "      <th>total_sales</th>\n",
       "      <th>operating_profit</th>\n",
       "      <th>sales_method</th>\n",
       "    </tr>\n",
       "  </thead>\n",
       "  <tbody>\n",
       "    <tr>\n",
       "      <th>0</th>\n",
       "      <td>Foot Locker</td>\n",
       "      <td>1185732</td>\n",
       "      <td>1/1/20</td>\n",
       "      <td>Northeast</td>\n",
       "      <td>New York</td>\n",
       "      <td>New York</td>\n",
       "      <td>Men's Street Footwear</td>\n",
       "      <td>50</td>\n",
       "      <td>1200</td>\n",
       "      <td>600000</td>\n",
       "      <td>300000.00</td>\n",
       "      <td>In-store</td>\n",
       "    </tr>\n",
       "    <tr>\n",
       "      <th>1</th>\n",
       "      <td>Foot Locker</td>\n",
       "      <td>1185732</td>\n",
       "      <td>1/1/20</td>\n",
       "      <td>Northeast</td>\n",
       "      <td>Pennsylvania</td>\n",
       "      <td>Philadelphia</td>\n",
       "      <td>Women's Apparel</td>\n",
       "      <td>68</td>\n",
       "      <td>83</td>\n",
       "      <td>5644</td>\n",
       "      <td>2426.92</td>\n",
       "      <td>Online</td>\n",
       "    </tr>\n",
       "    <tr>\n",
       "      <th>2</th>\n",
       "      <td>Foot Locker</td>\n",
       "      <td>1185732</td>\n",
       "      <td>1/1/20</td>\n",
       "      <td>Northeast</td>\n",
       "      <td>Pennsylvania</td>\n",
       "      <td>Philadelphia</td>\n",
       "      <td>Women's Apparel</td>\n",
       "      <td>75</td>\n",
       "      <td>275</td>\n",
       "      <td>206250</td>\n",
       "      <td>61875.00</td>\n",
       "      <td>Outlet</td>\n",
       "    </tr>\n",
       "    <tr>\n",
       "      <th>3</th>\n",
       "      <td>Foot Locker</td>\n",
       "      <td>1185732</td>\n",
       "      <td>1/1/20</td>\n",
       "      <td>Northeast</td>\n",
       "      <td>New York</td>\n",
       "      <td>New York</td>\n",
       "      <td>Men's Street Footwear</td>\n",
       "      <td>34</td>\n",
       "      <td>384</td>\n",
       "      <td>13056</td>\n",
       "      <td>6789.12</td>\n",
       "      <td>Outlet</td>\n",
       "    </tr>\n",
       "    <tr>\n",
       "      <th>4</th>\n",
       "      <td>Foot Locker</td>\n",
       "      <td>1185732</td>\n",
       "      <td>1/1/20</td>\n",
       "      <td>Northeast</td>\n",
       "      <td>Pennsylvania</td>\n",
       "      <td>Philadelphia</td>\n",
       "      <td>Women's Apparel</td>\n",
       "      <td>53</td>\n",
       "      <td>83</td>\n",
       "      <td>4399</td>\n",
       "      <td>1407.68</td>\n",
       "      <td>Outlet</td>\n",
       "    </tr>\n",
       "    <tr>\n",
       "      <th>5</th>\n",
       "      <td>Foot Locker</td>\n",
       "      <td>1185732</td>\n",
       "      <td>1/1/20</td>\n",
       "      <td>Northeast</td>\n",
       "      <td>New York</td>\n",
       "      <td>New York</td>\n",
       "      <td>Men's Street Footwear</td>\n",
       "      <td>47</td>\n",
       "      <td>336</td>\n",
       "      <td>15792</td>\n",
       "      <td>9633.12</td>\n",
       "      <td>Online</td>\n",
       "    </tr>\n",
       "    <tr>\n",
       "      <th>6</th>\n",
       "      <td>West Gear</td>\n",
       "      <td>1128299</td>\n",
       "      <td>1/2/20</td>\n",
       "      <td>Northeast</td>\n",
       "      <td>Pennsylvania</td>\n",
       "      <td>Philadelphia</td>\n",
       "      <td>Men's Street Footwear</td>\n",
       "      <td>35</td>\n",
       "      <td>450</td>\n",
       "      <td>157500</td>\n",
       "      <td>63000.00</td>\n",
       "      <td>Outlet</td>\n",
       "    </tr>\n",
       "    <tr>\n",
       "      <th>7</th>\n",
       "      <td>West Gear</td>\n",
       "      <td>1128299</td>\n",
       "      <td>1/2/20</td>\n",
       "      <td>Northeast</td>\n",
       "      <td>Pennsylvania</td>\n",
       "      <td>Philadelphia</td>\n",
       "      <td>Men's Street Footwear</td>\n",
       "      <td>27</td>\n",
       "      <td>158</td>\n",
       "      <td>4266</td>\n",
       "      <td>1791.72</td>\n",
       "      <td>Outlet</td>\n",
       "    </tr>\n",
       "    <tr>\n",
       "      <th>8</th>\n",
       "      <td>Foot Locker</td>\n",
       "      <td>1185732</td>\n",
       "      <td>1/2/20</td>\n",
       "      <td>Northeast</td>\n",
       "      <td>New York</td>\n",
       "      <td>New York</td>\n",
       "      <td>Men's Athletic Footwear</td>\n",
       "      <td>47</td>\n",
       "      <td>260</td>\n",
       "      <td>12220</td>\n",
       "      <td>5132.40</td>\n",
       "      <td>Online</td>\n",
       "    </tr>\n",
       "    <tr>\n",
       "      <th>9</th>\n",
       "      <td>West Gear</td>\n",
       "      <td>1128299</td>\n",
       "      <td>1/2/20</td>\n",
       "      <td>Northeast</td>\n",
       "      <td>Pennsylvania</td>\n",
       "      <td>Philadelphia</td>\n",
       "      <td>Men's Street Footwear</td>\n",
       "      <td>32</td>\n",
       "      <td>122</td>\n",
       "      <td>3904</td>\n",
       "      <td>1991.04</td>\n",
       "      <td>Online</td>\n",
       "    </tr>\n",
       "  </tbody>\n",
       "</table>\n",
       "</div>"
      ],
      "text/plain": [
       "      retailer  retailer_id invoice_date     region         state  \\\n",
       "0  Foot Locker      1185732       1/1/20  Northeast      New York   \n",
       "1  Foot Locker      1185732       1/1/20  Northeast  Pennsylvania   \n",
       "2  Foot Locker      1185732       1/1/20  Northeast  Pennsylvania   \n",
       "3  Foot Locker      1185732       1/1/20  Northeast      New York   \n",
       "4  Foot Locker      1185732       1/1/20  Northeast  Pennsylvania   \n",
       "5  Foot Locker      1185732       1/1/20  Northeast      New York   \n",
       "6    West Gear      1128299       1/2/20  Northeast  Pennsylvania   \n",
       "7    West Gear      1128299       1/2/20  Northeast  Pennsylvania   \n",
       "8  Foot Locker      1185732       1/2/20  Northeast      New York   \n",
       "9    West Gear      1128299       1/2/20  Northeast  Pennsylvania   \n",
       "\n",
       "           city                  product  price_per_unit  units_sold  \\\n",
       "0      New York    Men's Street Footwear              50        1200   \n",
       "1  Philadelphia          Women's Apparel              68          83   \n",
       "2  Philadelphia          Women's Apparel              75         275   \n",
       "3      New York    Men's Street Footwear              34         384   \n",
       "4  Philadelphia          Women's Apparel              53          83   \n",
       "5      New York    Men's Street Footwear              47         336   \n",
       "6  Philadelphia    Men's Street Footwear              35         450   \n",
       "7  Philadelphia    Men's Street Footwear              27         158   \n",
       "8      New York  Men's Athletic Footwear              47         260   \n",
       "9  Philadelphia    Men's Street Footwear              32         122   \n",
       "\n",
       "   total_sales  operating_profit sales_method  \n",
       "0       600000         300000.00     In-store  \n",
       "1         5644           2426.92       Online  \n",
       "2       206250          61875.00       Outlet  \n",
       "3        13056           6789.12       Outlet  \n",
       "4         4399           1407.68       Outlet  \n",
       "5        15792           9633.12       Online  \n",
       "6       157500          63000.00       Outlet  \n",
       "7         4266           1791.72       Outlet  \n",
       "8        12220           5132.40       Online  \n",
       "9         3904           1991.04       Online  "
      ]
     },
     "execution_count": 4,
     "metadata": {},
     "output_type": "execute_result"
    }
   ],
   "source": [
    "# Display the 2020 sales DataFrame\n",
    "df_2020.head(10)"
   ]
  },
  {
   "cell_type": "code",
   "execution_count": 5,
   "metadata": {},
   "outputs": [
    {
     "data": {
      "text/html": [
       "<div>\n",
       "<style scoped>\n",
       "    .dataframe tbody tr th:only-of-type {\n",
       "        vertical-align: middle;\n",
       "    }\n",
       "\n",
       "    .dataframe tbody tr th {\n",
       "        vertical-align: top;\n",
       "    }\n",
       "\n",
       "    .dataframe thead th {\n",
       "        text-align: right;\n",
       "    }\n",
       "</style>\n",
       "<table border=\"1\" class=\"dataframe\">\n",
       "  <thead>\n",
       "    <tr style=\"text-align: right;\">\n",
       "      <th></th>\n",
       "      <th>retailer</th>\n",
       "      <th>retailer_id</th>\n",
       "      <th>invoice_date</th>\n",
       "      <th>region</th>\n",
       "      <th>state</th>\n",
       "      <th>city</th>\n",
       "      <th>product</th>\n",
       "      <th>price_per_unit</th>\n",
       "      <th>units_sold</th>\n",
       "      <th>total_sales</th>\n",
       "      <th>operating_profit</th>\n",
       "      <th>sales_method</th>\n",
       "    </tr>\n",
       "  </thead>\n",
       "  <tbody>\n",
       "    <tr>\n",
       "      <th>0</th>\n",
       "      <td>West Gear</td>\n",
       "      <td>1128299</td>\n",
       "      <td>1/1/21</td>\n",
       "      <td>West</td>\n",
       "      <td>California</td>\n",
       "      <td>San Francisco</td>\n",
       "      <td>Men's Athletic Footwear</td>\n",
       "      <td>65</td>\n",
       "      <td>750</td>\n",
       "      <td>487500</td>\n",
       "      <td>121875.00</td>\n",
       "      <td>Outlet</td>\n",
       "    </tr>\n",
       "    <tr>\n",
       "      <th>1</th>\n",
       "      <td>West Gear</td>\n",
       "      <td>1128299</td>\n",
       "      <td>1/1/21</td>\n",
       "      <td>West</td>\n",
       "      <td>California</td>\n",
       "      <td>San Francisco</td>\n",
       "      <td>Men's Athletic Footwear</td>\n",
       "      <td>51</td>\n",
       "      <td>233</td>\n",
       "      <td>11883</td>\n",
       "      <td>3208.41</td>\n",
       "      <td>Outlet</td>\n",
       "    </tr>\n",
       "    <tr>\n",
       "      <th>2</th>\n",
       "      <td>Kohl's</td>\n",
       "      <td>1189833</td>\n",
       "      <td>1/1/21</td>\n",
       "      <td>Midwest</td>\n",
       "      <td>Montana</td>\n",
       "      <td>Billings</td>\n",
       "      <td>Men's Apparel</td>\n",
       "      <td>50</td>\n",
       "      <td>275</td>\n",
       "      <td>137500</td>\n",
       "      <td>82500.00</td>\n",
       "      <td>Outlet</td>\n",
       "    </tr>\n",
       "    <tr>\n",
       "      <th>3</th>\n",
       "      <td>Kohl's</td>\n",
       "      <td>1189833</td>\n",
       "      <td>1/1/21</td>\n",
       "      <td>Midwest</td>\n",
       "      <td>Montana</td>\n",
       "      <td>Billings</td>\n",
       "      <td>Men's Apparel</td>\n",
       "      <td>47</td>\n",
       "      <td>77</td>\n",
       "      <td>3619</td>\n",
       "      <td>2714.25</td>\n",
       "      <td>Online</td>\n",
       "    </tr>\n",
       "    <tr>\n",
       "      <th>4</th>\n",
       "      <td>West Gear</td>\n",
       "      <td>1128299</td>\n",
       "      <td>1/1/21</td>\n",
       "      <td>West</td>\n",
       "      <td>California</td>\n",
       "      <td>San Francisco</td>\n",
       "      <td>Men's Athletic Footwear</td>\n",
       "      <td>64</td>\n",
       "      <td>225</td>\n",
       "      <td>14400</td>\n",
       "      <td>5184.00</td>\n",
       "      <td>Online</td>\n",
       "    </tr>\n",
       "    <tr>\n",
       "      <th>5</th>\n",
       "      <td>Kohl's</td>\n",
       "      <td>1189833</td>\n",
       "      <td>1/2/21</td>\n",
       "      <td>Midwest</td>\n",
       "      <td>Montana</td>\n",
       "      <td>Billings</td>\n",
       "      <td>Women's Apparel</td>\n",
       "      <td>45</td>\n",
       "      <td>475</td>\n",
       "      <td>213750</td>\n",
       "      <td>53437.50</td>\n",
       "      <td>Outlet</td>\n",
       "    </tr>\n",
       "    <tr>\n",
       "      <th>6</th>\n",
       "      <td>West Gear</td>\n",
       "      <td>1128299</td>\n",
       "      <td>1/2/21</td>\n",
       "      <td>West</td>\n",
       "      <td>California</td>\n",
       "      <td>San Francisco</td>\n",
       "      <td>Women's Street Footwear</td>\n",
       "      <td>60</td>\n",
       "      <td>218</td>\n",
       "      <td>13080</td>\n",
       "      <td>6670.80</td>\n",
       "      <td>Online</td>\n",
       "    </tr>\n",
       "    <tr>\n",
       "      <th>7</th>\n",
       "      <td>West Gear</td>\n",
       "      <td>1128299</td>\n",
       "      <td>1/2/21</td>\n",
       "      <td>West</td>\n",
       "      <td>California</td>\n",
       "      <td>San Francisco</td>\n",
       "      <td>Women's Street Footwear</td>\n",
       "      <td>46</td>\n",
       "      <td>225</td>\n",
       "      <td>10350</td>\n",
       "      <td>4554.00</td>\n",
       "      <td>Outlet</td>\n",
       "    </tr>\n",
       "    <tr>\n",
       "      <th>8</th>\n",
       "      <td>West Gear</td>\n",
       "      <td>1128299</td>\n",
       "      <td>1/2/21</td>\n",
       "      <td>West</td>\n",
       "      <td>California</td>\n",
       "      <td>San Francisco</td>\n",
       "      <td>Women's Street Footwear</td>\n",
       "      <td>65</td>\n",
       "      <td>750</td>\n",
       "      <td>487500</td>\n",
       "      <td>195000.00</td>\n",
       "      <td>Outlet</td>\n",
       "    </tr>\n",
       "    <tr>\n",
       "      <th>9</th>\n",
       "      <td>Kohl's</td>\n",
       "      <td>1189833</td>\n",
       "      <td>1/2/21</td>\n",
       "      <td>Midwest</td>\n",
       "      <td>Montana</td>\n",
       "      <td>Billings</td>\n",
       "      <td>Women's Apparel</td>\n",
       "      <td>43</td>\n",
       "      <td>138</td>\n",
       "      <td>5934</td>\n",
       "      <td>2314.26</td>\n",
       "      <td>Online</td>\n",
       "    </tr>\n",
       "  </tbody>\n",
       "</table>\n",
       "</div>"
      ],
      "text/plain": [
       "    retailer  retailer_id invoice_date   region       state           city  \\\n",
       "0  West Gear      1128299       1/1/21     West  California  San Francisco   \n",
       "1  West Gear      1128299       1/1/21     West  California  San Francisco   \n",
       "2     Kohl's      1189833       1/1/21  Midwest     Montana       Billings   \n",
       "3     Kohl's      1189833       1/1/21  Midwest     Montana       Billings   \n",
       "4  West Gear      1128299       1/1/21     West  California  San Francisco   \n",
       "5     Kohl's      1189833       1/2/21  Midwest     Montana       Billings   \n",
       "6  West Gear      1128299       1/2/21     West  California  San Francisco   \n",
       "7  West Gear      1128299       1/2/21     West  California  San Francisco   \n",
       "8  West Gear      1128299       1/2/21     West  California  San Francisco   \n",
       "9     Kohl's      1189833       1/2/21  Midwest     Montana       Billings   \n",
       "\n",
       "                   product  price_per_unit  units_sold  total_sales  \\\n",
       "0  Men's Athletic Footwear              65         750       487500   \n",
       "1  Men's Athletic Footwear              51         233        11883   \n",
       "2            Men's Apparel              50         275       137500   \n",
       "3            Men's Apparel              47          77         3619   \n",
       "4  Men's Athletic Footwear              64         225        14400   \n",
       "5          Women's Apparel              45         475       213750   \n",
       "6  Women's Street Footwear              60         218        13080   \n",
       "7  Women's Street Footwear              46         225        10350   \n",
       "8  Women's Street Footwear              65         750       487500   \n",
       "9          Women's Apparel              43         138         5934   \n",
       "\n",
       "   operating_profit sales_method  \n",
       "0         121875.00       Outlet  \n",
       "1           3208.41       Outlet  \n",
       "2          82500.00       Outlet  \n",
       "3           2714.25       Online  \n",
       "4           5184.00       Online  \n",
       "5          53437.50       Outlet  \n",
       "6           6670.80       Online  \n",
       "7           4554.00       Outlet  \n",
       "8         195000.00       Outlet  \n",
       "9           2314.26       Online  "
      ]
     },
     "execution_count": 5,
     "metadata": {},
     "output_type": "execute_result"
    }
   ],
   "source": [
    "# Display the 2021 sales DataFrame\n",
    "df_2021.head(10)"
   ]
  },
  {
   "cell_type": "markdown",
   "metadata": {},
   "source": [
    "#### Check the data types of each DataFrame"
   ]
  },
  {
   "cell_type": "code",
   "execution_count": 6,
   "metadata": {},
   "outputs": [
    {
     "data": {
      "text/plain": [
       "retailer             object\n",
       "retailer_id           int64\n",
       "invoice_date         object\n",
       "region               object\n",
       "state                object\n",
       "city                 object\n",
       "product              object\n",
       "price_per_unit        int64\n",
       "units_sold            int64\n",
       "total_sales           int64\n",
       "operating_profit    float64\n",
       "sales_method         object\n",
       "dtype: object"
      ]
     },
     "execution_count": 6,
     "metadata": {},
     "output_type": "execute_result"
    }
   ],
   "source": [
    "# Check the 2020 sales data types.\n",
    "df_2020.dtypes"
   ]
  },
  {
   "cell_type": "code",
   "execution_count": 7,
   "metadata": {},
   "outputs": [
    {
     "data": {
      "text/plain": [
       "retailer             object\n",
       "retailer_id           int64\n",
       "invoice_date         object\n",
       "region               object\n",
       "state                object\n",
       "city                 object\n",
       "product              object\n",
       "price_per_unit        int64\n",
       "units_sold            int64\n",
       "total_sales           int64\n",
       "operating_profit    float64\n",
       "sales_method         object\n",
       "dtype: object"
      ]
     },
     "execution_count": 7,
     "metadata": {},
     "output_type": "execute_result"
    }
   ],
   "source": [
    "# Check the 2021 sales data types.\n",
    "df_2021.dtypes"
   ]
  },
  {
   "cell_type": "markdown",
   "metadata": {},
   "source": [
    "#### Combine the sales data by rows."
   ]
  },
  {
   "cell_type": "code",
   "execution_count": 9,
   "metadata": {},
   "outputs": [],
   "source": [
    "# Combine the 2020 and 2021 sales DataFrames on the rows and reset the index.\n",
    "combined_df = pd.concat([df_2020, df_2021], ignore_index=True)\n",
    "combined_df.reset_index(drop=True, inplace=True)\n"
   ]
  },
  {
   "cell_type": "code",
   "execution_count": 10,
   "metadata": {},
   "outputs": [
    {
     "name": "stdout",
     "output_type": "stream",
     "text": [
      "retailer            False\n",
      "retailer_id         False\n",
      "invoice_date        False\n",
      "region              False\n",
      "state               False\n",
      "city                False\n",
      "product             False\n",
      "price_per_unit      False\n",
      "units_sold          False\n",
      "total_sales         False\n",
      "operating_profit    False\n",
      "sales_method        False\n",
      "dtype: bool\n"
     ]
    }
   ],
   "source": [
    "# Check if any values are null.\n",
    "null_values = combined_df.isnull().any()\n",
    "print(null_values)"
   ]
  },
  {
   "cell_type": "code",
   "execution_count": 11,
   "metadata": {},
   "outputs": [
    {
     "name": "stdout",
     "output_type": "stream",
     "text": [
      "retailer             object\n",
      "retailer_id           int64\n",
      "invoice_date         object\n",
      "region               object\n",
      "state                object\n",
      "city                 object\n",
      "product              object\n",
      "price_per_unit        int64\n",
      "units_sold            int64\n",
      "total_sales           int64\n",
      "operating_profit    float64\n",
      "sales_method         object\n",
      "dtype: object\n"
     ]
    }
   ],
   "source": [
    "# Check the data type of each column\n",
    "column_data_types = combined_df.dtypes\n",
    "print(column_data_types)"
   ]
  },
  {
   "cell_type": "code",
   "execution_count": 14,
   "metadata": {},
   "outputs": [],
   "source": [
    "# Convert the \"invoice_date\" to a datetime datatype\n",
    "combined_df['invoice_date'] = pd.to_datetime(combined_df['invoice_date'])\n"
   ]
  },
  {
   "cell_type": "code",
   "execution_count": 15,
   "metadata": {},
   "outputs": [
    {
     "name": "stdout",
     "output_type": "stream",
     "text": [
      "retailer                    object\n",
      "retailer_id                  int64\n",
      "invoice_date        datetime64[ns]\n",
      "region                      object\n",
      "state                       object\n",
      "city                        object\n",
      "product                     object\n",
      "price_per_unit               int64\n",
      "units_sold                   int64\n",
      "total_sales                  int64\n",
      "operating_profit           float64\n",
      "sales_method                object\n",
      "dtype: object\n"
     ]
    }
   ],
   "source": [
    "# Confirm that the \"invoice_date\" data type has been changed.\n",
    "print(combined_df.dtypes)"
   ]
  },
  {
   "cell_type": "markdown",
   "metadata": {},
   "source": [
    "### 2. Determine which Region Sold the Most Products"
   ]
  },
  {
   "cell_type": "markdown",
   "metadata": {},
   "source": [
    "#### Using `groupby`"
   ]
  },
  {
   "cell_type": "code",
   "execution_count": 17,
   "metadata": {},
   "outputs": [
    {
     "name": "stdout",
     "output_type": "stream",
     "text": [
      "Top 5 Results:\n",
      "    region     state          city  Total_Products_Sold\n",
      "0  Midwest  Illinois       Chicago                25407\n",
      "1  Midwest   Indiana  Indianapolis                26332\n",
      "2  Midwest      Iowa    Des Moines                23446\n",
      "3  Midwest    Kansas       Wichita                29463\n",
      "4  Midwest  Michigan       Detroit                50095\n"
     ]
    }
   ],
   "source": [
    "# Show the number products sold for region, state, and city.\n",
    "# Rename the sum to \"Total_Products_Sold\".\n",
    "grouped_df = combined_df.groupby(['region', 'state', 'city']).agg(Total_Products_Sold=('units_sold', 'sum'))\n",
    "\n",
    "# Reset index to make the grouped columns regular columns\n",
    "grouped_df.reset_index(inplace=True)\n",
    "\n",
    "# Show the top 5 results\n",
    "top_5_results = grouped_df.head(5)\n",
    "\n",
    "print(\"Top 5 Results:\")\n",
    "print(top_5_results)\n",
    "\n",
    "\n",
    "                            "
   ]
  },
  {
   "cell_type": "markdown",
   "metadata": {},
   "source": [
    "#### Using `pivot_table`"
   ]
  },
  {
   "cell_type": "code",
   "execution_count": 18,
   "metadata": {},
   "outputs": [
    {
     "name": "stdout",
     "output_type": "stream",
     "text": [
      "Top 5 Results:\n",
      "    region     state          city  Total_Products_Sold\n",
      "0  Midwest  Illinois       Chicago                25407\n",
      "1  Midwest   Indiana  Indianapolis                26332\n",
      "2  Midwest      Iowa    Des Moines                23446\n",
      "3  Midwest    Kansas       Wichita                29463\n",
      "4  Midwest  Michigan       Detroit                50095\n"
     ]
    }
   ],
   "source": [
    "# Pivot the DataFrame to show the number of products sold for region, state, and city\n",
    "\n",
    "pivot_df = combined_df.pivot_table(index=['region', 'state', 'city'], values='units_sold', aggfunc='sum')\n",
    "\n",
    "# Rename the \"units_sold\" column to \"Total_Products_Sold\"\n",
    "pivot_df.rename(columns={'units_sold': 'Total_Products_Sold'}, inplace=True)\n",
    "\n",
    "# Reset index to make the grouped columns regular columns\n",
    "pivot_df.reset_index(inplace=True)\n",
    "\n",
    "# Show the top 5 results\n",
    "top_5_results = pivot_df.head(5)\n",
    "\n",
    "print(\"Top 5 Results:\")\n",
    "print(top_5_results)\n"
   ]
  },
  {
   "cell_type": "markdown",
   "metadata": {},
   "source": [
    "### 3. Determine which Region had the Most Sales"
   ]
  },
  {
   "cell_type": "markdown",
   "metadata": {},
   "source": [
    "#### Using `groupby`"
   ]
  },
  {
   "cell_type": "code",
   "execution_count": 20,
   "metadata": {},
   "outputs": [
    {
     "name": "stdout",
     "output_type": "stream",
     "text": [
      "Top 5 Results:\n",
      "    region     state          city  Total_Sales\n",
      "0  Midwest  Illinois       Chicago      9797488\n",
      "1  Midwest   Indiana  Indianapolis      8836198\n",
      "2  Midwest      Iowa    Des Moines      7424011\n",
      "3  Midwest    Kansas       Wichita      9972864\n",
      "4  Midwest  Michigan       Detroit     18625433\n"
     ]
    }
   ],
   "source": [
    "# Show the total sales for the products sold for each region, state, and city.\n",
    "# Rename the \"total_sales\" column to \"Total Sales\"\n",
    "grouped_sales_df = combined_df.groupby(['region', 'state', 'city']).agg(Total_Sales=('total_sales', 'sum'))\n",
    "\n",
    "# Reset index to make the grouped columns regular columns\n",
    "grouped_sales_df.reset_index(inplace=True)\n",
    "\n",
    "# Show the top 5 results\n",
    "top_5_results = grouped_sales_df.head(5)\n",
    "\n",
    "print(\"Top 5 Results:\")\n",
    "print(top_5_results)\n",
    "\n"
   ]
  },
  {
   "cell_type": "markdown",
   "metadata": {},
   "source": [
    "#### Using `pivot_table`"
   ]
  },
  {
   "cell_type": "code",
   "execution_count": 21,
   "metadata": {},
   "outputs": [
    {
     "name": "stdout",
     "output_type": "stream",
     "text": [
      "Top 5 Results:\n",
      "    region     state          city  Total Sales\n",
      "0  Midwest  Illinois       Chicago      9797488\n",
      "1  Midwest   Indiana  Indianapolis      8836198\n",
      "2  Midwest      Iowa    Des Moines      7424011\n",
      "3  Midwest    Kansas       Wichita      9972864\n",
      "4  Midwest  Michigan       Detroit     18625433\n"
     ]
    }
   ],
   "source": [
    "# Show the total sales for the products sold for each region, state, and city.\n",
    "pivot_sales_df = combined_df.pivot_table(index=['region', 'state', 'city'], values='total_sales', aggfunc='sum')\n",
    "\n",
    "# Optional: Rename the \"total_sales\" column to \"Total Sales\"\n",
    "pivot_sales_df.rename(columns={'total_sales': 'Total Sales'}, inplace=True)\n",
    "\n",
    "# Reset index to make the grouped columns regular columns\n",
    "pivot_sales_df.reset_index(inplace=True)\n",
    "\n",
    "# Show the top 5 results\n",
    "top_5_results = pivot_sales_df.head(5)\n",
    "\n",
    "print(\"Top 5 Results:\")\n",
    "print(top_5_results)\n"
   ]
  },
  {
   "cell_type": "markdown",
   "metadata": {
    "tags": []
   },
   "source": [
    "### 4. Determine which Retailer had the Most Sales"
   ]
  },
  {
   "cell_type": "markdown",
   "metadata": {},
   "source": [
    "#### Using `groupby`"
   ]
  },
  {
   "cell_type": "code",
   "execution_count": 22,
   "metadata": {},
   "outputs": [
    {
     "name": "stdout",
     "output_type": "stream",
     "text": [
      "Top 5 Results:\n",
      "  retailer     region          state        city  Total_Sales\n",
      "0   Amazon    Midwest           Ohio    Columbus     16835873\n",
      "1   Amazon  Northeast          Maine    Portland      8611395\n",
      "2   Amazon  Northeast  Massachusetts      Boston      4193590\n",
      "3   Amazon  Northeast  New Hampshire  Manchester     10077142\n",
      "4   Amazon  Northeast        Vermont  Burlington     13380463\n"
     ]
    }
   ],
   "source": [
    "# Show the total sales for the products sold for each retailer, region, state, and city.\n",
    "# Rename the \"total_sales\" column to \"Total Sales\"\n",
    "grouped_sales_df = combined_df.groupby(['retailer', 'region', 'state', 'city']).agg(Total_Sales=('total_sales', 'sum'))\n",
    "\n",
    "# Reset index to make the grouped columns regular columns\n",
    "grouped_sales_df.reset_index(inplace=True)\n",
    "\n",
    "# Show the top 5 results\n",
    "top_5_results = grouped_sales_df.head(5)\n",
    "\n",
    "print(\"Top 5 Results:\")\n",
    "print(top_5_results)\n"
   ]
  },
  {
   "cell_type": "markdown",
   "metadata": {},
   "source": [
    "#### Using `pivot_table`"
   ]
  },
  {
   "cell_type": "code",
   "execution_count": 23,
   "metadata": {},
   "outputs": [
    {
     "name": "stdout",
     "output_type": "stream",
     "text": [
      "Top 5 Results:\n",
      "  retailer     region          state        city  Total Sales\n",
      "0   Amazon    Midwest           Ohio    Columbus     16835873\n",
      "1   Amazon  Northeast          Maine    Portland      8611395\n",
      "2   Amazon  Northeast  Massachusetts      Boston      4193590\n",
      "3   Amazon  Northeast  New Hampshire  Manchester     10077142\n",
      "4   Amazon  Northeast        Vermont  Burlington     13380463\n"
     ]
    }
   ],
   "source": [
    "# Show the total sales for the products sold for each retailer, region, state, and city.\n",
    "pivot_sales_df = combined_df.pivot_table(index=['retailer', 'region', 'state', 'city'], values='total_sales', aggfunc='sum')\n",
    "\n",
    "# Optional: Rename the \"total_sales\" column to \"Total Sales\"\n",
    "pivot_sales_df.rename(columns={'total_sales': 'Total Sales'}, inplace=True)\n",
    "\n",
    "# Reset index to make the grouped columns regular columns\n",
    "pivot_sales_df.reset_index(inplace=True)\n",
    "\n",
    "# Show the top 5 results\n",
    "top_5_results = pivot_sales_df.head(5)\n",
    "\n",
    "print(\"Top 5 Results:\")\n",
    "print(top_5_results)\n",
    "\n"
   ]
  },
  {
   "cell_type": "markdown",
   "metadata": {},
   "source": [
    "### 5. Determine which Retailer Sold the Most Women's Athletic Footwear"
   ]
  },
  {
   "cell_type": "code",
   "execution_count": 25,
   "metadata": {},
   "outputs": [
    {
     "name": "stdout",
     "output_type": "stream",
     "text": [
      "Women's Athletic Footwear Sales Data:\n",
      "         retailer  retailer_id invoice_date     region         state  \\\n",
      "21    Foot Locker      1185732   2020-01-04  Northeast      New York   \n",
      "22    Foot Locker      1185732   2020-01-04  Northeast      New York   \n",
      "23    Foot Locker      1185732   2020-01-04  Northeast      New York   \n",
      "26      West Gear      1128299   2020-01-05  Northeast  Pennsylvania   \n",
      "27      West Gear      1128299   2020-01-05  Northeast  Pennsylvania   \n",
      "...           ...          ...          ...        ...           ...   \n",
      "9633  Foot Locker      1185732   2021-12-30  Northeast  Pennsylvania   \n",
      "9634  Foot Locker      1185732   2021-12-30  Northeast  Pennsylvania   \n",
      "9635       Amazon      1185732   2021-12-30  Northeast         Maine   \n",
      "9636       Amazon      1185732   2021-12-30  Northeast         Maine   \n",
      "9637  Foot Locker      1185732   2021-12-30  Northeast  Pennsylvania   \n",
      "\n",
      "              city                    product  price_per_unit  units_sold  \\\n",
      "21        New York  Women's Athletic Footwear              36         281   \n",
      "22        New York  Women's Athletic Footwear              41         247   \n",
      "23        New York  Women's Athletic Footwear              45         850   \n",
      "26    Philadelphia  Women's Athletic Footwear              45         300   \n",
      "27    Philadelphia  Women's Athletic Footwear              34          90   \n",
      "...            ...                        ...             ...         ...   \n",
      "9633  Philadelphia  Women's Athletic Footwear              57          53   \n",
      "9634  Philadelphia  Women's Athletic Footwear              40          53   \n",
      "9635      Portland  Women's Athletic Footwear              42          36   \n",
      "9636      Portland  Women's Athletic Footwear              45         125   \n",
      "9637  Philadelphia  Women's Athletic Footwear              60         175   \n",
      "\n",
      "      total_sales  operating_profit sales_method  \n",
      "21          10116           3742.92       Outlet  \n",
      "22          10127           4658.42       Online  \n",
      "23         382500         133875.00     In-store  \n",
      "26         135000          47250.00       Outlet  \n",
      "27           3060           1254.60       Outlet  \n",
      "...           ...               ...          ...  \n",
      "9633         3021           1601.13       Online  \n",
      "9634         2120            954.00       Outlet  \n",
      "9635         1512            680.40       Online  \n",
      "9636        56250          16875.00       Outlet  \n",
      "9637       105000          42000.00       Outlet  \n",
      "\n",
      "[1604 rows x 12 columns]\n"
     ]
    }
   ],
   "source": [
    "# Filter the sales data to get the women's athletic footwear sales data.\n",
    "womens_athletic_footwear_sales = combined_df[combined_df['product'] == \"Women's Athletic Footwear\"]\n",
    "\n",
    "# Print the filtered DataFrame\n",
    "print(\"Women's Athletic Footwear Sales Data:\")\n",
    "print(womens_athletic_footwear_sales)"
   ]
  },
  {
   "cell_type": "markdown",
   "metadata": {},
   "source": [
    "#### Using `groupby`"
   ]
  },
  {
   "cell_type": "code",
   "execution_count": 28,
   "metadata": {},
   "outputs": [
    {
     "name": "stdout",
     "output_type": "stream",
     "text": [
      "          retailer     region           state           city  \\\n",
      "101      West Gear       West      California  San Francisco   \n",
      "22     Foot Locker  Northeast        New York       New York   \n",
      "49          Kohl's       West      California    Los Angeles   \n",
      "33     Foot Locker  Southeast  South Carolina     Charleston   \n",
      "68   Sports Direct      South           Texas         Dallas   \n",
      "\n",
      "     Womens_Footwear_Units_Sold  \n",
      "101                       12107  \n",
      "22                        10996  \n",
      "49                        10826  \n",
      "33                         8814  \n",
      "68                         8790  \n"
     ]
    }
   ],
   "source": [
    "# Show the total number of women's athletic footwear sold for each retailer, region, state, and city.\n",
    "# Rename the \"units_sold\" column to \"Womens_Footwear_Units_Sold\"\n",
    "womens_athletic_footwear_sales = combined_df[combined_df['product'] == \"Women's Athletic Footwear\"]\n",
    "\n",
    "# Group by retailer, region, state, and city and sum the number of units sold\n",
    "grouped_womens_sales_df = womens_athletic_footwear_sales.groupby(['retailer', 'region', 'state', 'city']).agg(Womens_Footwear_Units_Sold=('units_sold', 'sum'))\n",
    "\n",
    "# Reset index to make the grouped columns regular columns\n",
    "grouped_womens_sales_df.reset_index(inplace=True)\n",
    "\n",
    "# Show the top 5 results\n",
    "top_5_results = grouped_womens_sales_df.sort_values(by='Womens_Footwear_Units_Sold', ascending=False).head(5)\n",
    "\n",
    "\n",
    "print(top_5_results)\n"
   ]
  },
  {
   "cell_type": "markdown",
   "metadata": {},
   "source": [
    "#### Using `pivot_table`"
   ]
  },
  {
   "cell_type": "code",
   "execution_count": 29,
   "metadata": {},
   "outputs": [
    {
     "name": "stdout",
     "output_type": "stream",
     "text": [
      "          retailer     region           state           city  \\\n",
      "101      West Gear       West      California  San Francisco   \n",
      "22     Foot Locker  Northeast        New York       New York   \n",
      "49          Kohl's       West      California    Los Angeles   \n",
      "33     Foot Locker  Southeast  South Carolina     Charleston   \n",
      "68   Sports Direct      South           Texas         Dallas   \n",
      "\n",
      "     Womens_Footwear_Units_Sold  \n",
      "101                       12107  \n",
      "22                        10996  \n",
      "49                        10826  \n",
      "33                         8814  \n",
      "68                         8790  \n"
     ]
    }
   ],
   "source": [
    "# Show the total number of women's athletic footwear sold for each retailer, region, state, and city.\n",
    "womens_athletic_footwear_sales = combined_df[combined_df['product'] == \"Women's Athletic Footwear\"]\n",
    "\n",
    "# Pivot the DataFrame to show the total number of women's athletic footwear sold for each retailer, region, state, and city\n",
    "pivot_womens_sales_df = womens_athletic_footwear_sales.pivot_table(index=['retailer', 'region', 'state', 'city'], values='units_sold', aggfunc='sum')\n",
    "\n",
    "# Rename the \"units_sold\" column to \"Womens_Footwear_Units_Sold\"\n",
    "pivot_womens_sales_df.rename(columns={'units_sold': 'Womens_Footwear_Units_Sold'}, inplace=True)\n",
    "\n",
    "# Reset index to make the grouped columns regular columns\n",
    "pivot_womens_sales_df.reset_index(inplace=True)\n",
    "\n",
    "# Sort the DataFrame in descending order based on \"Womens_Footwear_Units_Sold\"\n",
    "top_5_results = pivot_womens_sales_df.sort_values(by='Womens_Footwear_Units_Sold', ascending=False).head(5)\n",
    "\n",
    "print(top_5_results)\n",
    "\n"
   ]
  },
  {
   "cell_type": "markdown",
   "metadata": {},
   "source": [
    "### 5. Determine the Day with the Most Women's Athletic Footwear Sales"
   ]
  },
  {
   "cell_type": "code",
   "execution_count": 30,
   "metadata": {},
   "outputs": [
    {
     "name": "stdout",
     "output_type": "stream",
     "text": [
      "Table with Women's Athletic Footwear Sales:\n",
      "              Total Sales\n",
      "invoice_date             \n",
      "2020-01-04         402743\n",
      "2020-01-05         141801\n",
      "2020-01-11         129556\n",
      "2020-01-17         173013\n",
      "2020-01-22         388250\n",
      "...                   ...\n",
      "2021-12-22         200406\n",
      "2021-12-23         808022\n",
      "2021-12-24         190885\n",
      "2021-12-25         315175\n",
      "2021-12-30         167903\n",
      "\n",
      "[355 rows x 1 columns]\n"
     ]
    }
   ],
   "source": [
    "# Create a pivot table with the 'invoice_date' column is the index, and the \"total_sales\" as the values.\n",
    "womens_athletic_footwear_sales = combined_df[combined_df['product'] == \"Women's Athletic Footwear\"]\n",
    "\n",
    "# Create a pivot table with 'invoice_date' as index and 'total_sales' as values\n",
    "pivot_table_sales = womens_athletic_footwear_sales.pivot_table(index='invoice_date', values='total_sales', aggfunc='sum')\n",
    "\n",
    "# Optional: Rename the \"total_sales\" column to \"Total Sales\"\n",
    "pivot_table_sales.rename(columns={'total_sales': 'Total Sales'}, inplace=True)\n",
    "\n",
    "# Show the table\n",
    "print(\"Table with Women's Athletic Footwear Sales:\")\n",
    "print(pivot_table_sales)\n"
   ]
  },
  {
   "cell_type": "code",
   "execution_count": 31,
   "metadata": {},
   "outputs": [
    {
     "name": "stdout",
     "output_type": "stream",
     "text": [
      "Resampled Table Sorted in Total Sales:\n",
      "              Total Sales\n",
      "invoice_date             \n",
      "2021-01-01              0\n",
      "2020-10-10              0\n",
      "2020-10-09              0\n",
      "2020-10-07              0\n",
      "2020-10-06              0\n",
      "...                   ...\n",
      "2021-07-23        1021806\n",
      "2021-08-17        1086294\n",
      "2021-06-17        1376988\n",
      "2021-12-16        1473497\n",
      "2021-07-16        1521825\n",
      "\n",
      "[727 rows x 1 columns]\n"
     ]
    }
   ],
   "source": [
    "# Resample the pivot table into daily bins, and get the total sales for each day.\n",
    "resampled_pivot_table = pivot_table_sales.resample('D').sum()\n",
    "\n",
    "# Sort the resampled pivot table in ascending order on \"Total Sales\"\n",
    "sorted_resampled_pivot_table = resampled_pivot_table.sort_values(by='Total Sales', ascending=True)\n",
    "\n",
    "# Show the sorted resampled pivot table\n",
    "print(\"Resampled Table Sorted in Total Sales:\")\n",
    "print(sorted_resampled_pivot_table)\n"
   ]
  },
  {
   "cell_type": "markdown",
   "metadata": {},
   "source": [
    "### 6.  Determine the Week with the Most Women's Athletic Footwear Sales"
   ]
  },
  {
   "cell_type": "code",
   "execution_count": 32,
   "metadata": {},
   "outputs": [
    {
     "name": "stdout",
     "output_type": "stream",
     "text": [
      "Resampled Pivot Table Sorted in Ascending Order on Total Sales:\n",
      "              Total Sales\n",
      "invoice_date             \n",
      "2020-10-18              0\n",
      "2020-11-22          53940\n",
      "2020-12-13          58916\n",
      "2020-12-20          61710\n",
      "2020-12-06          62801\n",
      "...                   ...\n",
      "2021-11-14        2531721\n",
      "2021-07-18        2801449\n",
      "2021-07-11        2835078\n",
      "2021-12-12        2922161\n",
      "2021-12-19        3098970\n",
      "\n",
      "[105 rows x 1 columns]\n"
     ]
    }
   ],
   "source": [
    "# Resample the pivot table into weekly bins, and get the total sales for each week.\n",
    "weekly_sales = pivot_table_sales.resample('W').sum()\n",
    "\n",
    "# Sort the resampled pivot table in ascending order on \"Total Sales\"\n",
    "sorted_weekly_sales = weekly_sales.sort_values(by='Total Sales', ascending=True)\n",
    "\n",
    "# Show the sorted resampled pivot table\n",
    "print(\"Resampled Pivot Table Sorted in Ascending Order on Total Sales:\")\n",
    "print(sorted_weekly_sales)\n",
    "\n"
   ]
  },
  {
   "cell_type": "code",
   "execution_count": null,
   "metadata": {},
   "outputs": [],
   "source": []
  }
 ],
 "metadata": {
  "kernelspec": {
   "display_name": "Python 3 (ipykernel)",
   "language": "python",
   "name": "python3"
  },
  "language_info": {
   "codemirror_mode": {
    "name": "ipython",
    "version": 3
   },
   "file_extension": ".py",
   "mimetype": "text/x-python",
   "name": "python",
   "nbconvert_exporter": "python",
   "pygments_lexer": "ipython3",
   "version": "3.10.13"
  }
 },
 "nbformat": 4,
 "nbformat_minor": 4
}
